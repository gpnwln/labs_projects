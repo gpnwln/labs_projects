{
 "cells": [
  {
   "cell_type": "markdown",
   "id": "c8b5675e-19c3-4a76-bbcb-c720d56eb819",
   "metadata": {},
   "source": [
    "# Лабораторная работа №3 (Laboratory work 3)\n",
    "### Исследование красного вина (Red Wine Research)"
   ]
  },
  {
   "cell_type": "code",
   "execution_count": null,
   "id": "022ef6bb-80f0-49ba-9c18-1b1f42599334",
   "metadata": {},
   "outputs": [],
   "source": []
  }
 ],
 "metadata": {
  "kernelspec": {
   "display_name": "Python 3 (ipykernel)",
   "language": "python",
   "name": "python3"
  },
  "language_info": {
   "codemirror_mode": {
    "name": "ipython",
    "version": 3
   },
   "file_extension": ".py",
   "mimetype": "text/x-python",
   "name": "python",
   "nbconvert_exporter": "python",
   "pygments_lexer": "ipython3",
   "version": "3.10.8"
  }
 },
 "nbformat": 4,
 "nbformat_minor": 5
}
