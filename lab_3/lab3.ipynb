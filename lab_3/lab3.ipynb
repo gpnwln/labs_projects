{
 "cells": [
  {
   "cell_type": "markdown",
   "id": "c8b5675e-19c3-4a76-bbcb-c720d56eb819",
   "metadata": {},
   "source": [
    "# Лабораторная работа №3 (Laboratory work 3)\n",
    "### Исследование красного вина (Red Wine Research)"
   ]
  },
  {
   "cell_type": "markdown",
   "id": "c522507d-cf06-4d87-8440-1ad8d7b235fe",
   "metadata": {},
   "source": [
    "--------------------------------------\n",
    "### Эпилог (Epilogue):\n",
    "#### Набор данных относится к красному варианту португальского вина Vinho Verde. Из-за конфиденциальности и логистических проблем доступны только физико-химические (входные данные) и \"качество\" вина. Также учитываем, что нет дополнительных данных, т.е. о сортах винограда, марке вина, отпускной цене вина и т.д. (The dataset refers to the red variant of the Portuguese wine Vinho Verde. Due to confidentiality and logistical issues, only the physico-chemical (input data) and \"quality\" of the wine are available. We also take into consideration that there is no additional data, i.e. about grape varieties, wine brand, selling price of wine, etc.)\n",
    "### Цель (Goal):\n",
    "#### Данные не стандартизированы, не сбалансированы. Нужно научиться классифицировать данные, используя метод опорных векторов, и сравнить с классификацией, используя деревья принятия решений, сделать вывод о лучшей классификации. (The data is not standardized, not balanced. You need to learn how to classify data using the support vector machine method, and compare it with the classification using decision trees, to make a conclusion about the best classification.)"
   ]
  },
  {
   "cell_type": "markdown",
   "id": "a34065a5-27c6-48c7-8caf-dd70c9d17aa6",
   "metadata": {},
   "source": [
    "-------------------------------------\n",
    "## Задание 1-2 (Task 1-2)\n",
    "#### Загрузка и анализ исходных данных (Downloading and analyzing input data)"
   ]
  },
  {
   "cell_type": "code",
   "execution_count": null,
   "id": "7ba7a8ac-fdfd-45fe-845a-eec3a4d6e4a6",
   "metadata": {},
   "outputs": [],
   "source": [
    "import pandas as pd"
   ]
  },
  {
   "cell_type": "code",
   "execution_count": null,
   "id": "ba8463ef-da3e-4d27-93d6-d018011cc5d6",
   "metadata": {},
   "outputs": [],
   "source": [
    "df = pd.read_csv('vine.dat', header=None)\n",
    "df.columns =['FixedAcidity', 'VolatileAcidity', 'CitricAcid', 'ResidualSugar', 'Chlorides', 'FreeSulfurDioxide', 'TotalSulfurDioxide', 'Density', 'PH', 'Sulphates', 'Alcohol', 'Class']\n",
    "df"
   ]
  }
 ],
 "metadata": {
  "kernelspec": {
   "display_name": "Python 3 (ipykernel)",
   "language": "python",
   "name": "python3"
  },
  "language_info": {
   "codemirror_mode": {
    "name": "ipython",
    "version": 3
   },
   "file_extension": ".py",
   "mimetype": "text/x-python",
   "name": "python",
   "nbconvert_exporter": "python",
   "pygments_lexer": "ipython3",
   "version": "3.10.8"
  }
 },
 "nbformat": 4,
 "nbformat_minor": 5
}
