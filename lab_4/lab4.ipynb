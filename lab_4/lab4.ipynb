{
 "cells": [
  {
   "cell_type": "markdown",
   "id": "eed9dd2e-d7ff-453a-baae-9786dffb3b61",
   "metadata": {},
   "source": [
    "# Лабораторная работа №4 (Laboratory work 4)\n",
    "### Задача класстеризации - исследование красного вина (Clustering task - Red Wine Research)"
   ]
  },
  {
   "cell_type": "markdown",
   "id": "96b3d283-3fe7-40bb-8a3e-9e1c2c4189cd",
   "metadata": {},
   "source": [
    "--------------------------------------\n",
    "### Эпилог (Epilogue):\n",
    "#### Набор данных относится к красному варианту португальского вина Vinho Verde. Из-за конфиденциальности и логистических проблем доступны только физико-химические (входные данные) и \"качество\" вина. Также учитываем, что нет дополнительных данных, т.е. о сортах винограда, марке вина, отпускной цене вина и т.д. (The dataset refers to the red variant of the Portuguese wine Vinho Verde. Due to confidentiality and logistical issues, only the physico-chemical (input data) and \"quality\" of the wine are available. We also take into consideration that there is no additional data, i.e. about grape varieties, wine brand, selling price of wine, etc.)\n",
    "### Цель (Goal):\n",
    "#### Данные не стандартизированы, не сбалансированы. Нужно научиться классифицировать данные и сравнить методы: задачу классификации и её после метода главных компонент, сделать вывод о лучшей классификации. (The data is not standardized, not balanced. It is necessary to learn how to classify data and compare methods: the classification task and its main components after the method, to conclude about the best classification.)"
   ]
  },
  {
   "cell_type": "markdown",
   "id": "2cfe9e24-64a4-4980-8aad-f51f90e28d63",
   "metadata": {},
   "source": [
    "-------------------------------------\n",
    "## Задание 1-2 (Task 1-2)\n",
    "#### Загрузка и анализ исходных данных (Downloading and analyzing input data)"
   ]
  },
  {
   "cell_type": "code",
   "execution_count": null,
   "id": "f79efe4e-ab78-4077-981f-f74318b2140c",
   "metadata": {},
   "outputs": [],
   "source": []
  }
 ],
 "metadata": {
  "kernelspec": {
   "display_name": "Python 3 (ipykernel)",
   "language": "python",
   "name": "python3"
  },
  "language_info": {
   "codemirror_mode": {
    "name": "ipython",
    "version": 3
   },
   "file_extension": ".py",
   "mimetype": "text/x-python",
   "name": "python",
   "nbconvert_exporter": "python",
   "pygments_lexer": "ipython3",
   "version": "3.10.8"
  }
 },
 "nbformat": 4,
 "nbformat_minor": 5
}
